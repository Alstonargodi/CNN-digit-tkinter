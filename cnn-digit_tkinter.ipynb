{
 "cells": [
  {
   "cell_type": "code",
   "execution_count": 67,
   "id": "68b1fff7",
   "metadata": {},
   "outputs": [],
   "source": [
    "#library\n",
    "from tensorflow.keras.datasets import mnist\n",
    "from matplotlib import pyplot as plt\n",
    "from numpy import mean\n",
    "from numpy import std\n",
    "from matplotlib import pyplot as plt\n",
    "from sklearn.model_selection import KFold\n",
    "\n",
    "from tensorflow.keras.datasets import mnist\n",
    "from tensorflow.keras.utils import to_categorical\n",
    "from tensorflow.keras.models import Sequential\n",
    "from tensorflow.keras.layers import Convolution2D\n",
    "from tensorflow.keras.layers import MaxPooling2D\n",
    "from tensorflow.keras.layers import Dense\n",
    "from tensorflow.keras.layers import Dropout\n",
    "from tensorflow.keras.layers import Flatten\n",
    "from tensorflow.keras.optimizers import SGD\n",
    "\n",
    "\n",
    "\n",
    "#tkinter \n",
    "import os\n",
    "import PIL\n",
    "import cv2\n",
    "import glob\n",
    "import numpy as np\n",
    "from tkinter import *\n",
    "from tkinter import Canvas\n",
    "from PIL import Image, ImageDraw, ImageGrab"
   ]
  },
  {
   "cell_type": "code",
   "execution_count": 68,
   "id": "145bc5d3",
   "metadata": {},
   "outputs": [
    {
     "data": {
      "image/png": "[encoded data removed]",
      "text/plain": [
       "<Figure size 432x288 with 5 Axes>"
      ]
     },
     "metadata": {
      "needs_background": "light"
     },
     "output_type": "display_data"
    }
   ],
   "source": [
    "#mengambil dataset\n",
    "(x_train,y_train),(x_test,y_test) = mnist.load_data()\n",
    "\n",
    "for i in range(5):\n",
    "    plt.subplot(int('23' + str(i+1)))\n",
    "    plt.imshow(x_train[i], cmap=plt.get_cmap('gray'))"
   ]
  },
  {
   "cell_type": "code",
   "execution_count": 69,
   "id": "9198c7f9",
   "metadata": {},
   "outputs": [],
   "source": [
    "#gambar (dataset) direpresentasikan sebagai \n",
    "#matriks 28x28 yang berisi nilai piksel skala abu-abu. \n",
    "#Berdasarkan hal tersebut maka dimensi dari data latih \n",
    "#adalah (60000,28,28) tetapi model CNN akan membutuhkan \n",
    "#satu dimensi lagi sehingga perlu dilakukan pengolahan \n",
    "#data dengan membentuk kembali matriks menjadi bentuk \n",
    "#(60000,28,28,1)"
   ]
  },
  {
   "cell_type": "code",
   "execution_count": 70,
   "id": "edfe0942",
   "metadata": {},
   "outputs": [],
   "source": [
    "#normalisasi dataset\n",
    "x_train = x_train.reshape(x_train.shape[0],28,28,1).astype('float32')\n",
    "\n",
    "x_test = x_test.reshape(x_test.shape[0],28,28,1).astype('float32')\n",
    "\n",
    "#konversi class vector ke binary class matrix\n",
    "y_train = to_categorical(y_train)\n",
    "y_test = to_categorical(y_test)\n",
    "\n",
    "#normalisasi input\n",
    "x_train = x_train/255\n",
    "x_test = x_test/255"
   ]
  },
  {
   "cell_type": "code",
   "execution_count": 72,
   "id": "569b635c",
   "metadata": {},
   "outputs": [],
   "source": [
    "#membuat arsitektur CNN dan filter\n",
    "def modelcnn():\n",
    "    num_classes = 10\n",
    "    model = Sequential()\n",
    "    model.add(Convolution2D(32,kernel_size=(3,3),activation='relu'))\n",
    "    model.add(Convolution2D(64,(3,3),activation='relu'))\n",
    "    model.add(MaxPooling2D(pool_size=(2,2)))\n",
    "    model.add(Dropout(0.25))\n",
    "    model.add(Flatten())\n",
    "    model.add(Dense(256,activation='relu'))\n",
    "    model.add(Dropout(0.5))\n",
    "    model.add(Dense(num_classes,activation='softmax'))\n",
    "    model.compile(loss='categorical_crossentropy',optimizer='adam',metrics=['accuracy'])\n",
    "    return model\n",
    "\n",
    "model = modelcnn()"
   ]
  },
  {
   "cell_type": "code",
   "execution_count": 74,
   "id": "f7a524b1",
   "metadata": {},
   "outputs": [
    {
     "name": "stdout",
     "output_type": "stream",
     "text": [
      "Epoch 1/10\n",
      "300/300 - 54s - loss: 0.2150 - accuracy: 0.9344 - val_loss: 0.0510 - val_accuracy: 0.9836\n",
      "Epoch 2/10\n",
      "300/300 - 52s - loss: 0.0669 - accuracy: 0.9797 - val_loss: 0.0383 - val_accuracy: 0.9876\n",
      "Epoch 3/10\n",
      "300/300 - 52s - loss: 0.0507 - accuracy: 0.9837 - val_loss: 0.0317 - val_accuracy: 0.9898\n",
      "Epoch 4/10\n",
      "300/300 - 55s - loss: 0.0390 - accuracy: 0.9883 - val_loss: 0.0325 - val_accuracy: 0.9893\n",
      "Epoch 5/10\n",
      "300/300 - 59s - loss: 0.0314 - accuracy: 0.9899 - val_loss: 0.0291 - val_accuracy: 0.9904\n",
      "Epoch 6/10\n",
      "300/300 - 58s - loss: 0.0273 - accuracy: 0.9915 - val_loss: 0.0253 - val_accuracy: 0.9918\n",
      "Epoch 7/10\n",
      "300/300 - 59s - loss: 0.0222 - accuracy: 0.9928 - val_loss: 0.0285 - val_accuracy: 0.9916\n",
      "Epoch 8/10\n",
      "300/300 - 59s - loss: 0.0207 - accuracy: 0.9930 - val_loss: 0.0281 - val_accuracy: 0.9911\n",
      "Epoch 9/10\n",
      "300/300 - 61s - loss: 0.0192 - accuracy: 0.9937 - val_loss: 0.0247 - val_accuracy: 0.9929\n",
      "Epoch 10/10\n",
      "300/300 - 59s - loss: 0.0166 - accuracy: 0.9944 - val_loss: 0.0276 - val_accuracy: 0.9926\n"
     ]
    },
    {
     "data": {
      "text/plain": [
       "<keras.callbacks.History at 0x265693abd30>"
      ]
     },
     "execution_count": 74,
     "metadata": {},
     "output_type": "execute_result"
    }
   ],
   "source": [
    "#melatih model\n",
    "model.fit(x_train,y_train, validation_data=(x_test,y_test),epochs=10,batch_size=200,verbose=2)\n"
   ]
  },
  {
   "cell_type": "code",
   "execution_count": 76,
   "id": "b4dcca29",
   "metadata": {},
   "outputs": [
    {
     "name": "stdout",
     "output_type": "stream",
     "text": [
      "0.7399976253509521\n"
     ]
    }
   ],
   "source": [
    "skor = model.evaluate(x_test,y_test, verbose=0)\n",
    "print((100-skor[1]*100))"
   ]
  },
  {
   "cell_type": "code",
   "execution_count": 75,
   "id": "b5904c30",
   "metadata": {},
   "outputs": [
    {
     "name": "stdout",
     "output_type": "stream",
     "text": [
      "INFO:tensorflow:Assets written to: mode.h1\\assets\n"
     ]
    }
   ],
   "source": [
    "model.save('mode.h1')"
   ]
  },
  {
   "cell_type": "code",
   "execution_count": 77,
   "id": "db8ab880",
   "metadata": {},
   "outputs": [],
   "source": [
    "#input model untuk tkitner\n",
    "from keras.models import load_model\n",
    "model = load_model('mode.h1')\n"
   ]
  },
  {
   "cell_type": "code",
   "execution_count": 78,
   "id": "4e50fd73",
   "metadata": {},
   "outputs": [],
   "source": [
    "#fungsi tkinter\n",
    "def clear_digit():\n",
    "        global cv\n",
    "        cv.delete(\"all\")\n",
    "        \n",
    "        return cv\n",
    "    \n",
    "def activate_event(event):\n",
    "    global lastx, lasty\n",
    "    cv.bind('<B1-Motion>',pena)\n",
    "    lastx, lasty = event.x, event.y\n",
    "    \n",
    "def pena(event):\n",
    "    global lastx,lasty\n",
    "    x,y = event.x, event.y\n",
    "    \n",
    "    cv.create_line((lastx,lasty,x,y),width=8,fill='black',capstyle=ROUND,smooth=TRUE,splinesteps=12)\n",
    "    \n",
    "    lastx, lasty= x,y\n",
    "\n",
    "def recognize_digit():\n",
    "    global image_number\n",
    "    \n",
    "    prediksi = []\n",
    "    persen = []\n",
    "    image_number = 0\n",
    "    \n",
    "    filename = f'image_{image_number}.png'\n",
    "    widget = cv\n",
    "    \n",
    "    #widget coordinate\n",
    "    x = window.winfo_rootx() + widget.winfo_x()\n",
    "    y = window.winfo_rooty() + widget.winfo_y()\n",
    "    \n",
    "    xl = x + widget.winfo_width()\n",
    "    yl = y + widget.winfo_height()\n",
    "    \n",
    "    #mengambil gambar\n",
    "    ImageGrab.grab().crop((x,y,xl,yl)).save(filename)\n",
    "    \n",
    "    #membaca format warna data\n",
    "    image = cv2.imread(filename,cv2.IMREAD_COLOR)\n",
    "    \n",
    "    #konversi ke grayscale\n",
    "    gray = cv2.cvtColor(image,cv2.COLOR_BGR2GRAY)\n",
    "    \n",
    "    ret,th = cv2.threshold(gray,0,255,cv2.THRESH_BINARY_INV+cv2.THRESH_OTSU)\n",
    "    \n",
    "    contours = cv2.findContours(th,cv2.RETR_EXTERNAL,cv2.CHAIN_APPROX_SIMPLE)[0]\n",
    "    \n",
    "    for cnt in contours:\n",
    "        #bounding box\n",
    "        x,y,w,h = cv2.boundingRect(cnt)\n",
    "        \n",
    "        #membuat kotak\n",
    "        cv2.rectangle(image,(x,y),(x+w,y+h), (255,0,0), 1)\n",
    "        top = int(0.05 * th.shape[0])\n",
    "        bottom = top\n",
    "        \n",
    "        left = int(0.05 * th.shape[1])\n",
    "        right = left\n",
    "        \n",
    "        th_up = cv2.copyMakeBorder(th,top,bottom,left,right, cv2.BORDER_REPLICATE)\n",
    "        \n",
    "        #ekstrak gambar\n",
    "        roi = th[y-top:y+h+bottom, x-left:x+w+right]\n",
    "        \n",
    "        #ekstra gambar ke 28x28 pixels\n",
    "        img = cv2.resize(roi,(28,28),interpolation=cv2.INTER_AREA)\n",
    "        \n",
    "        #reshaping\n",
    "        img = img.reshape(1,28,28,1)\n",
    "        \n",
    "        #normalisasi gambar\n",
    "        img = img / 255.0\n",
    "        \n",
    "        #prediksi gambar\n",
    "        pred = model.predict([img])[0]\n",
    "        \n",
    "        \n",
    "        \n",
    "        #cetak hasil\n",
    "        final_pred = np.argmax(pred)\n",
    "        data = str(final_pred) + ' ' + str(int(max(pred)*100)) + '%'\n",
    "        \n",
    "        \n",
    "        #properti binding box\n",
    "        font = cv2.FONT_HERSHEY_SIMPLEX\n",
    "        fontscale = 0.5\n",
    "        color = (255,0,0)\n",
    "        thickness = 1\n",
    "        cv2.putText(image,data,(x,y-5),font,fontscale,color,thickness)\n",
    "        \n",
    "        \n",
    "        #tampilkan binding bix\n",
    "        cv2.imshow('image',image)\n",
    "        cv2.waitKey(0)"
   ]
  },
  {
   "cell_type": "code",
   "execution_count": 79,
   "id": "d9237376",
   "metadata": {},
   "outputs": [],
   "source": [
    "#jendela\n",
    "window = Tk()\n",
    "window.resizable(0,0)\n",
    "window.title('test')\n",
    "\n",
    "\n",
    "#inisisialisasi variabel\n",
    "lastx, lasty = None, None\n",
    "image_number = 0\n",
    "\n",
    "#create canvas\n",
    "cv = Canvas(window, width=640, height=480, bg='white')\n",
    "cv.grid(row=0,column=0,pady=2,sticky=W,columnspan=2)\n",
    "\n",
    "cv.bind('<Button-1>',activate_event)\n",
    "\n",
    "\n",
    "btn_save = Button(text=\"klasifikasikan\",command = recognize_digit)\n",
    "btn_save.grid(row=2,column=0,pady=1,padx=1)\n",
    "\n",
    "btn_clear = Button(text=\"hapus canvas\", command = clear_digit)\n",
    "btn_clear.grid(row=5,column=1,pady=1,padx=1)\n",
    "\n",
    "#run tkinter\n",
    "window.mainloop()"
   ]
  },
  {
   "cell_type": "code",
   "execution_count": null,
   "id": "94e12d53",
   "metadata": {},
   "outputs": [],
   "source": []
  }
 ],
 "metadata": {
  "kernelspec": {
   "display_name": "Python 3",
   "language": "python",
   "name": "python3"
  },
  "language_info": {
   "codemirror_mode": {
    "name": "ipython",
    "version": 3
   },
   "file_extension": ".py",
   "mimetype": "text/x-python",
   "name": "python",
   "nbconvert_exporter": "python",
   "pygments_lexer": "ipython3",
   "version": "3.8.8"
  }
 },
 "nbformat": 4,
 "nbformat_minor": 5
}
