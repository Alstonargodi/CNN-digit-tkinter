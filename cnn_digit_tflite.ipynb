{
  "nbformat": 4,
  "nbformat_minor": 0,
  "metadata": {
    "colab": {
      "name": "cnn-digit-tflite.ipynb",
      "provenance": []
    },
    "kernelspec": {
      "name": "python3",
      "display_name": "Python 3"
    },
    "language_info": {
      "name": "python"
    }
  },
  "cells": [
    {
      "cell_type": "code",
      "execution_count": null,
      "metadata": {
        "id": "1mo_PT8VVSLE"
      },
      "outputs": [],
      "source": [
        "#library\n",
        "from tensorflow.keras.datasets import mnist\n",
        "from matplotlib import pyplot as plt\n",
        "from numpy import mean\n",
        "from numpy import std\n",
        "from matplotlib import pyplot as plt\n",
        "from sklearn.model_selection import KFold\n",
        "\n",
        "from tensorflow.keras.datasets import mnist\n",
        "from tensorflow.keras.utils import to_categorical\n",
        "from tensorflow.keras.models import Sequential\n",
        "from tensorflow.keras.layers import Convolution2D\n",
        "from tensorflow.keras.layers import MaxPooling2D\n",
        "from tensorflow.keras.layers import Dense\n",
        "from tensorflow.keras.layers import Dropout\n",
        "from tensorflow.keras.layers import Flatten\n",
        "from tensorflow.keras.optimizers import SGD\n",
        "\n",
        "\n",
        "\n",
        "#tkinter \n",
        "import os\n",
        "import PIL\n",
        "import cv2\n",
        "import glob\n",
        "import numpy as np\n",
        "from tkinter import *\n",
        "from tkinter import Canvas\n",
        "from PIL import Image, ImageDraw, ImageGrab"
      ]
    },
    {
      "cell_type": "code",
      "source": [
        "#mengambil dataset\n",
        "(x_train,y_train),(x_test,y_test) = mnist.load_data()\n",
        "\n",
        "for i in range(5):\n",
        "    plt.subplot(int('23' + str(i+1)))\n",
        "    plt.imshow(x_train[i], cmap=plt.get_cmap('gray'))"
      ],
      "metadata": {
        "colab": {
          "base_uri": "https://localhost:8080/",
          "height": 319
        },
        "id": "_i1HVVAIWYNf",
        "outputId": "92275f4e-3a5b-4723-cccf-0ccb12ad84fe"
      },
      "execution_count": null,
      "outputs": [
        {
          "output_type": "stream",
          "name": "stdout",
          "text": [
            "Downloading data from https://storage.googleapis.com/tensorflow/tf-keras-datasets/mnist.npz\n",
            "11493376/11490434 [==============================] - 0s 0us/step\n",
            "11501568/11490434 [==============================] - 0s 0us/step\n"
          ]
        },
        {
          "output_type": "display_data",
          "data": {
            "image/png": "[encoded data removed]",
            "text/plain": [
              "<Figure size 432x288 with 5 Axes>"
            ]
          },
          "metadata": {
            "needs_background": "light"
          }
        }
      ]
    },
    {
      "cell_type": "code",
      "source": [
        "#gambar (dataset) direpresentasikan sebagai \n",
        "#matriks 28x28 yang berisi nilai piksel skala abu-abu. \n",
        "#Berdasarkan hal tersebut maka dimensi dari data latih \n",
        "#adalah (60000,28,28) tetapi model CNN akan membutuhkan \n",
        "#satu dimensi lagi sehingga perlu dilakukan pengolahan \n",
        "#data dengan membentuk kembali matriks menjadi bentuk \n",
        "#(60000,28,28,1)"
      ],
      "metadata": {
        "id": "XiY8A5kSWbHO"
      },
      "execution_count": null,
      "outputs": []
    },
    {
      "cell_type": "code",
      "source": [
        "#normalisasi dataset\n",
        "x_train = x_train.reshape(x_train.shape[0],28,28,1).astype('float32')\n",
        "\n",
        "x_test = x_test.reshape(x_test.shape[0],28,28,1).astype('float32')\n",
        "\n",
        "#konversi class vector ke binary class matrix\n",
        "y_train = to_categorical(y_train)\n",
        "y_test = to_categorical(y_test)\n",
        "\n",
        "#normalisasi input\n",
        "x_train = x_train/255\n",
        "x_test = x_test/255"
      ],
      "metadata": {
        "id": "F2FWGWx0W1av"
      },
      "execution_count": null,
      "outputs": []
    },
    {
      "cell_type": "code",
      "source": [
        "#membuat arsitektur CNN dan filter\n",
        "def modelcnn():\n",
        "    num_classes = 10\n",
        "    model = Sequential()\n",
        "    model.add(Convolution2D(32,kernel_size=(3,3),activation='relu'))\n",
        "    model.add(Convolution2D(64,(3,3),activation='relu'))\n",
        "    model.add(MaxPooling2D(pool_size=(2,2)))\n",
        "    model.add(Dropout(0.25))\n",
        "    model.add(Flatten())\n",
        "    model.add(Dense(256,activation='relu'))\n",
        "    model.add(Dropout(0.5))\n",
        "    model.add(Dense(num_classes,activation='softmax'))\n",
        "    model.compile(loss='categorical_crossentropy',optimizer='adam',metrics=['accuracy'])\n",
        "    return model\n",
        "\n",
        "model = modelcnn()"
      ],
      "metadata": {
        "id": "xlbdcNsVW46H"
      },
      "execution_count": null,
      "outputs": []
    },
    {
      "cell_type": "code",
      "source": [
        "#melatih model\n",
        "model.fit(x_train,y_train, validation_data=(x_test,y_test),epochs=10,batch_size=200,verbose=2)"
      ],
      "metadata": {
        "colab": {
          "base_uri": "https://localhost:8080/"
        },
        "id": "nmSZ_7v_W7RH",
        "outputId": "3f0b41d4-6876-48b7-940f-b0b6ceedf98e"
      },
      "execution_count": null,
      "outputs": [
        {
          "output_type": "stream",
          "name": "stdout",
          "text": [
            "Epoch 1/10\n",
            "300/300 - 149s - loss: 0.2312 - accuracy: 0.9304 - val_loss: 0.0454 - val_accuracy: 0.9854 - 149s/epoch - 497ms/step\n",
            "Epoch 2/10\n",
            "300/300 - 148s - loss: 0.0680 - accuracy: 0.9797 - val_loss: 0.0335 - val_accuracy: 0.9883 - 148s/epoch - 493ms/step\n",
            "Epoch 3/10\n",
            "300/300 - 149s - loss: 0.0482 - accuracy: 0.9851 - val_loss: 0.0327 - val_accuracy: 0.9889 - 149s/epoch - 496ms/step\n",
            "Epoch 4/10\n",
            "300/300 - 146s - loss: 0.0398 - accuracy: 0.9872 - val_loss: 0.0269 - val_accuracy: 0.9915 - 146s/epoch - 488ms/step\n",
            "Epoch 5/10\n",
            "300/300 - 147s - loss: 0.0322 - accuracy: 0.9901 - val_loss: 0.0278 - val_accuracy: 0.9910 - 147s/epoch - 489ms/step\n",
            "Epoch 6/10\n",
            "300/300 - 146s - loss: 0.0257 - accuracy: 0.9917 - val_loss: 0.0268 - val_accuracy: 0.9918 - 146s/epoch - 487ms/step\n",
            "Epoch 7/10\n",
            "300/300 - 148s - loss: 0.0227 - accuracy: 0.9923 - val_loss: 0.0270 - val_accuracy: 0.9911 - 148s/epoch - 493ms/step\n",
            "Epoch 8/10\n",
            "300/300 - 147s - loss: 0.0210 - accuracy: 0.9930 - val_loss: 0.0264 - val_accuracy: 0.9915 - 147s/epoch - 489ms/step\n",
            "Epoch 9/10\n",
            "300/300 - 146s - loss: 0.0181 - accuracy: 0.9943 - val_loss: 0.0279 - val_accuracy: 0.9922 - 146s/epoch - 486ms/step\n",
            "Epoch 10/10\n",
            "300/300 - 145s - loss: 0.0172 - accuracy: 0.9945 - val_loss: 0.0275 - val_accuracy: 0.9916 - 145s/epoch - 485ms/step\n"
          ]
        },
        {
          "output_type": "execute_result",
          "data": {
            "text/plain": [
              "<keras.callbacks.History at 0x7fbc21fbbe10>"
            ]
          },
          "metadata": {},
          "execution_count": 8
        }
      ]
    },
    {
      "cell_type": "code",
      "source": [
        "skor = model.evaluate(x_test,y_test, verbose=0)\n",
        "print((100-skor[1]*100))"
      ],
      "metadata": {
        "colab": {
          "base_uri": "https://localhost:8080/"
        },
        "id": "F69WL3qLqrma",
        "outputId": "7bae62b2-45d0-4966-8429-3e7a9bacc825"
      },
      "execution_count": null,
      "outputs": [
        {
          "output_type": "stream",
          "name": "stdout",
          "text": [
            "0.8400022983551025\n"
          ]
        }
      ]
    },
    {
      "cell_type": "code",
      "source": [
        "#import tensorflow lite model"
      ],
      "metadata": {
        "id": "dbudbqhpq3vR"
      },
      "execution_count": null,
      "outputs": []
    },
    {
      "cell_type": "code",
      "source": [
        "#konverter model\n",
        "import tensorflow as tf\n",
        "converter = tf.lite.TFLiteConverter.from_keras_model(model)\n",
        "tf_lite_float_model = converter.convert()\n",
        "\n",
        "float_model_size = len(tf_lite_float_model) / 1024\n",
        "print(\"ukuran = %dKBs\" % float_model_size)"
      ],
      "metadata": {
        "colab": {
          "base_uri": "https://localhost:8080/"
        },
        "id": "Vu8rAvQ6q_vg",
        "outputId": "851381f3-05f1-49aa-cad9-d6380cb6964d"
      },
      "execution_count": null,
      "outputs": [
        {
          "output_type": "stream",
          "name": "stdout",
          "text": [
            "INFO:tensorflow:Assets written to: /tmp/tmp3jzb9932/assets\n"
          ]
        },
        {
          "output_type": "stream",
          "name": "stderr",
          "text": [
            "WARNING:absl:Buffer deduplication procedure will be skipped when flatbuffer library is not properly loaded\n"
          ]
        },
        {
          "output_type": "stream",
          "name": "stdout",
          "text": [
            "ukuran = 9303KBs\n"
          ]
        }
      ]
    },
    {
      "cell_type": "code",
      "source": [
        "#konvert ke model quantineze\n",
        "converter.optimizations = [tf.lite.Optimize.DEFAULT]\n",
        "tflite_model_quant = converter.convert()\n",
        "\n",
        "tflite_model_quant_size = len(tflite_model_quant) / 1024\n",
        "print(\"ukuran = %dKBs\" % tflite_model_quant_size)"
      ],
      "metadata": {
        "colab": {
          "base_uri": "https://localhost:8080/"
        },
        "id": "oW46WKwBrLhT",
        "outputId": "47ebb4a9-16e7-4640-b291-d0d9616ae0c8"
      },
      "execution_count": null,
      "outputs": [
        {
          "output_type": "stream",
          "name": "stdout",
          "text": [
            "INFO:tensorflow:Assets written to: /tmp/tmpssxi5veh/assets\n"
          ]
        },
        {
          "output_type": "stream",
          "name": "stderr",
          "text": [
            "INFO:tensorflow:Assets written to: /tmp/tmpssxi5veh/assets\n",
            "WARNING:absl:Buffer deduplication procedure will be skipped when flatbuffer library is not properly loaded\n"
          ]
        },
        {
          "output_type": "stream",
          "name": "stdout",
          "text": [
            "ukuran = 2331KBs\n"
          ]
        }
      ]
    },
    {
      "cell_type": "code",
      "source": [
        "from google.colab import files\n",
        "#export file\n",
        "\n",
        "f = open('digit.tflite','wb')\n",
        "f.write(tflite_model_quant)\n",
        "f.close()\n",
        "files.download('digit.tflite')"
      ],
      "metadata": {
        "colab": {
          "base_uri": "https://localhost:8080/",
          "height": 17
        },
        "id": "_WWXRr28rQ1B",
        "outputId": "04f80a08-1c1d-4131-ae91-ac5c841ad68f"
      },
      "execution_count": null,
      "outputs": [
        {
          "output_type": "display_data",
          "data": {
            "application/javascript": [
              "\n",
              "    async function download(id, filename, size) {\n",
              "      if (!google.colab.kernel.accessAllowed) {\n",
              "        return;\n",
              "      }\n",
              "      const div = document.createElement('div');\n",
              "      const label = document.createElement('label');\n",
              "      label.textContent = `Downloading \"${filename}\": `;\n",
              "      div.appendChild(label);\n",
              "      const progress = document.createElement('progress');\n",
              "      progress.max = size;\n",
              "      div.appendChild(progress);\n",
              "      document.body.appendChild(div);\n",
              "\n",
              "      const buffers = [];\n",
              "      let downloaded = 0;\n",
              "\n",
              "      const channel = await google.colab.kernel.comms.open(id);\n",
              "      // Send a message to notify the kernel that we're ready.\n",
              "      channel.send({})\n",
              "\n",
              "      for await (const message of channel.messages) {\n",
              "        // Send a message to notify the kernel that we're ready.\n",
              "        channel.send({})\n",
              "        if (message.buffers) {\n",
              "          for (const buffer of message.buffers) {\n",
              "            buffers.push(buffer);\n",
              "            downloaded += buffer.byteLength;\n",
              "            progress.value = downloaded;\n",
              "          }\n",
              "        }\n",
              "      }\n",
              "      const blob = new Blob(buffers, {type: 'application/binary'});\n",
              "      const a = document.createElement('a');\n",
              "      a.href = window.URL.createObjectURL(blob);\n",
              "      a.download = filename;\n",
              "      div.appendChild(a);\n",
              "      a.click();\n",
              "      div.remove();\n",
              "    }\n",
              "  "
            ],
            "text/plain": [
              "<IPython.core.display.Javascript object>"
            ]
          },
          "metadata": {}
        },
        {
          "output_type": "display_data",
          "data": {
            "application/javascript": [
              "download(\"download_68f9157e-2546-4c6e-b763-acd8ff35fa87\", \"digit.tflite\", 2387376)"
            ],
            "text/plain": [
              "<IPython.core.display.Javascript object>"
            ]
          },
          "metadata": {}
        }
      ]
    },
    {
      "cell_type": "code",
      "source": [
        "#tkinter gui"
      ],
      "metadata": {
        "id": "WKwSoaztq9QJ"
      },
      "execution_count": null,
      "outputs": []
    },
    {
      "cell_type": "code",
      "source": [
        "model.save('mode.h1')"
      ],
      "metadata": {
        "id": "w9qCw4Y1qs-K"
      },
      "execution_count": null,
      "outputs": []
    },
    {
      "cell_type": "code",
      "source": [
        "#input model untuk tkitner\n",
        "from keras.models import load_model\n",
        "model = load_model('mode.h1')"
      ],
      "metadata": {
        "id": "PcVBx8E2qv4J"
      },
      "execution_count": null,
      "outputs": []
    },
    {
      "cell_type": "code",
      "source": [
        "#fungsi tkinter\n",
        "def clear_digit():\n",
        "        global cv\n",
        "        cv.delete(\"all\")\n",
        "        \n",
        "        return cv\n",
        "    \n",
        "def activate_event(event):\n",
        "    global lastx, lasty\n",
        "    cv.bind('<B1-Motion>',pena)\n",
        "    lastx, lasty = event.x, event.y\n",
        "    \n",
        "def pena(event):\n",
        "    global lastx,lasty\n",
        "    x,y = event.x, event.y\n",
        "    \n",
        "    cv.create_line((lastx,lasty,x,y),width=8,fill='black',capstyle=ROUND,smooth=TRUE,splinesteps=12)\n",
        "    \n",
        "    lastx, lasty= x,y\n",
        "\n",
        "def recognize_digit():\n",
        "    global image_number\n",
        "    \n",
        "    prediksi = []\n",
        "    persen = []\n",
        "    image_number = 0\n",
        "    \n",
        "    filename = f'image_{image_number}.png'\n",
        "    widget = cv\n",
        "    \n",
        "    #widget coordinate\n",
        "    x = window.winfo_rootx() + widget.winfo_x()\n",
        "    y = window.winfo_rooty() + widget.winfo_y()\n",
        "    \n",
        "    xl = x + widget.winfo_width()\n",
        "    yl = y + widget.winfo_height()\n",
        "    \n",
        "    #mengambil gambar\n",
        "    ImageGrab.grab().crop((x,y,xl,yl)).save(filename)\n",
        "    \n",
        "    #membaca format warna data\n",
        "    image = cv2.imread(filename,cv2.IMREAD_COLOR)\n",
        "    \n",
        "    #konversi ke grayscale\n",
        "    gray = cv2.cvtColor(image,cv2.COLOR_BGR2GRAY)\n",
        "    \n",
        "    ret,th = cv2.threshold(gray,0,255,cv2.THRESH_BINARY_INV+cv2.THRESH_OTSU)\n",
        "    \n",
        "    contours = cv2.findContours(th,cv2.RETR_EXTERNAL,cv2.CHAIN_APPROX_SIMPLE)[0]\n",
        "    \n",
        "    for cnt in contours:\n",
        "        #bounding box\n",
        "        x,y,w,h = cv2.boundingRect(cnt)\n",
        "        \n",
        "        #membuat kotak\n",
        "        cv2.rectangle(image,(x,y),(x+w,y+h), (255,0,0), 1)\n",
        "        top = int(0.05 * th.shape[0])\n",
        "        bottom = top\n",
        "        \n",
        "        left = int(0.05 * th.shape[1])\n",
        "        right = left\n",
        "        \n",
        "        th_up = cv2.copyMakeBorder(th,top,bottom,left,right, cv2.BORDER_REPLICATE)\n",
        "        \n",
        "        #ekstrak gambar\n",
        "        roi = th[y-top:y+h+bottom, x-left:x+w+right]\n",
        "        \n",
        "        #ekstra gambar ke 28x28 pixels\n",
        "        img = cv2.resize(roi,(28,28),interpolation=cv2.INTER_AREA)\n",
        "        \n",
        "        #reshaping\n",
        "        img = img.reshape(1,28,28,1)\n",
        "        \n",
        "        #normalisasi gambar\n",
        "        img = img / 255.0\n",
        "        \n",
        "        #prediksi gambar\n",
        "        pred = model.predict([img])[0]\n",
        "        \n",
        "        \n",
        "        \n",
        "        #cetak hasil\n",
        "        final_pred = np.argmax(pred)\n",
        "        data = str(final_pred) + ' ' + str(int(max(pred)*100)) + '%'\n",
        "        \n",
        "        \n",
        "        #properti binding box\n",
        "        font = cv2.FONT_HERSHEY_SIMPLEX\n",
        "        fontscale = 0.5\n",
        "        color = (255,0,0)\n",
        "        thickness = 1\n",
        "        cv2.putText(image,data,(x,y-5),font,fontscale,color,thickness)\n",
        "        \n",
        "        \n",
        "        #tampilkan binding bix\n",
        "        cv2.imshow('image',image)\n",
        "        cv2.waitKey(0)"
      ],
      "metadata": {
        "id": "grjPXl-8qxmw"
      },
      "execution_count": null,
      "outputs": []
    },
    {
      "cell_type": "code",
      "source": [
        "#jendela\n",
        "window = Tk()\n",
        "window.resizable(0,0)\n",
        "window.title('test')\n",
        "\n",
        "\n",
        "#inisisialisasi variabel\n",
        "lastx, lasty = None, None\n",
        "image_number = 0\n",
        "\n",
        "#create canvas\n",
        "cv = Canvas(window, width=640, height=480, bg='white')\n",
        "cv.grid(row=0,column=0,pady=2,sticky=W,columnspan=2)\n",
        "\n",
        "cv.bind('<Button-1>',activate_event)\n",
        "\n",
        "\n",
        "btn_save = Button(text=\"klasifikasikan\",command = recognize_digit)\n",
        "btn_save.grid(row=2,column=0,pady=1,padx=1)\n",
        "\n",
        "btn_clear = Button(text=\"hapus canvas\", command = clear_digit)\n",
        "btn_clear.grid(row=5,column=1,pady=1,padx=1)\n",
        "\n",
        "#run tkinter\n",
        "window.mainloop()"
      ],
      "metadata": {
        "id": "M3MptjgPq1hJ"
      },
      "execution_count": null,
      "outputs": []
    }
  ]
}